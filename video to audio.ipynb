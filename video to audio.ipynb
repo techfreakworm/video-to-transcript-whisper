{
 "cells": [
  {
   "cell_type": "code",
   "execution_count": 1,
   "id": "38035f04-df3c-40fd-98dd-93bdb819efe5",
   "metadata": {},
   "outputs": [],
   "source": [
    "import moviepy.editor as mp\n",
    "import os"
   ]
  },
  {
   "cell_type": "code",
   "execution_count": 2,
   "id": "bc224758-a923-4b33-89d9-4e3547a3fd14",
   "metadata": {},
   "outputs": [
    {
     "name": "stdout",
     "output_type": "stream",
     "text": [
      "7.mp4\n",
      "MoviePy - Writing audio in /Users/techfreakworm/Projects/lab_notebooks/Chitkara/audio/7.wav\n"
     ]
    },
    {
     "name": "stderr",
     "output_type": "stream",
     "text": [
      "                                                                                \r"
     ]
    },
    {
     "name": "stdout",
     "output_type": "stream",
     "text": [
      "MoviePy - Done.\n",
      "/Users/techfreakworm/Projects/lab_notebooks/Chitkara/audio/7.wav\n",
      "6.mp4\n",
      "MoviePy - Writing audio in /Users/techfreakworm/Projects/lab_notebooks/Chitkara/audio/6.wav\n"
     ]
    },
    {
     "name": "stderr",
     "output_type": "stream",
     "text": [
      "                                                                                \r"
     ]
    },
    {
     "name": "stdout",
     "output_type": "stream",
     "text": [
      "MoviePy - Done.\n",
      "/Users/techfreakworm/Projects/lab_notebooks/Chitkara/audio/6.wav\n",
      "4.mp4\n",
      "MoviePy - Writing audio in /Users/techfreakworm/Projects/lab_notebooks/Chitkara/audio/4.wav\n"
     ]
    },
    {
     "name": "stderr",
     "output_type": "stream",
     "text": [
      "                                                                                \r"
     ]
    },
    {
     "name": "stdout",
     "output_type": "stream",
     "text": [
      "MoviePy - Done.\n",
      "/Users/techfreakworm/Projects/lab_notebooks/Chitkara/audio/4.wav\n",
      "5.mp4\n",
      "MoviePy - Writing audio in /Users/techfreakworm/Projects/lab_notebooks/Chitkara/audio/5.wav\n"
     ]
    },
    {
     "name": "stderr",
     "output_type": "stream",
     "text": [
      "                                                                                \r"
     ]
    },
    {
     "name": "stdout",
     "output_type": "stream",
     "text": [
      "MoviePy - Done.\n",
      "/Users/techfreakworm/Projects/lab_notebooks/Chitkara/audio/5.wav\n",
      "1.mp4\n",
      "MoviePy - Writing audio in /Users/techfreakworm/Projects/lab_notebooks/Chitkara/audio/1.wav\n"
     ]
    },
    {
     "name": "stderr",
     "output_type": "stream",
     "text": [
      "                                                                                \r"
     ]
    },
    {
     "name": "stdout",
     "output_type": "stream",
     "text": [
      "MoviePy - Done.\n",
      "/Users/techfreakworm/Projects/lab_notebooks/Chitkara/audio/1.wav\n",
      "2.mp4\n",
      "MoviePy - Writing audio in /Users/techfreakworm/Projects/lab_notebooks/Chitkara/audio/2.wav\n"
     ]
    },
    {
     "name": "stderr",
     "output_type": "stream",
     "text": [
      "                                                                                \r"
     ]
    },
    {
     "name": "stdout",
     "output_type": "stream",
     "text": [
      "MoviePy - Done.\n",
      "/Users/techfreakworm/Projects/lab_notebooks/Chitkara/audio/2.wav\n",
      "3.mp4\n",
      "MoviePy - Writing audio in /Users/techfreakworm/Projects/lab_notebooks/Chitkara/audio/3.wav\n"
     ]
    },
    {
     "name": "stderr",
     "output_type": "stream",
     "text": [
      "                                                                                \r"
     ]
    },
    {
     "name": "stdout",
     "output_type": "stream",
     "text": [
      "MoviePy - Done.\n",
      "/Users/techfreakworm/Projects/lab_notebooks/Chitkara/audio/3.wav\n",
      "11.mp4\n",
      "MoviePy - Writing audio in /Users/techfreakworm/Projects/lab_notebooks/Chitkara/audio/11.wav\n"
     ]
    },
    {
     "name": "stderr",
     "output_type": "stream",
     "text": [
      "                                                                                \r"
     ]
    },
    {
     "name": "stdout",
     "output_type": "stream",
     "text": [
      "MoviePy - Done.\n",
      "/Users/techfreakworm/Projects/lab_notebooks/Chitkara/audio/11.wav\n",
      "10.mp4\n",
      "MoviePy - Writing audio in /Users/techfreakworm/Projects/lab_notebooks/Chitkara/audio/10.wav\n"
     ]
    },
    {
     "name": "stderr",
     "output_type": "stream",
     "text": [
      "                                                                                \r"
     ]
    },
    {
     "name": "stdout",
     "output_type": "stream",
     "text": [
      "MoviePy - Done.\n",
      "/Users/techfreakworm/Projects/lab_notebooks/Chitkara/audio/10.wav\n",
      "12.mp4\n",
      "MoviePy - Writing audio in /Users/techfreakworm/Projects/lab_notebooks/Chitkara/audio/12.wav\n"
     ]
    },
    {
     "name": "stderr",
     "output_type": "stream",
     "text": [
      "                                                                                \r"
     ]
    },
    {
     "name": "stdout",
     "output_type": "stream",
     "text": [
      "MoviePy - Done.\n",
      "/Users/techfreakworm/Projects/lab_notebooks/Chitkara/audio/12.wav\n",
      "13.mp4\n",
      "MoviePy - Writing audio in /Users/techfreakworm/Projects/lab_notebooks/Chitkara/audio/13.wav\n"
     ]
    },
    {
     "name": "stderr",
     "output_type": "stream",
     "text": [
      "                                                                                \r"
     ]
    },
    {
     "name": "stdout",
     "output_type": "stream",
     "text": [
      "MoviePy - Done.\n",
      "/Users/techfreakworm/Projects/lab_notebooks/Chitkara/audio/13.wav\n",
      "8.mp4\n",
      "MoviePy - Writing audio in /Users/techfreakworm/Projects/lab_notebooks/Chitkara/audio/8.wav\n"
     ]
    },
    {
     "name": "stderr",
     "output_type": "stream",
     "text": [
      "                                                                                \r"
     ]
    },
    {
     "name": "stdout",
     "output_type": "stream",
     "text": [
      "MoviePy - Done.\n",
      "/Users/techfreakworm/Projects/lab_notebooks/Chitkara/audio/8.wav\n",
      "9.mp4\n",
      "MoviePy - Writing audio in /Users/techfreakworm/Projects/lab_notebooks/Chitkara/audio/9.wav\n"
     ]
    },
    {
     "name": "stderr",
     "output_type": "stream",
     "text": [
      "                                                                                "
     ]
    },
    {
     "name": "stdout",
     "output_type": "stream",
     "text": [
      "MoviePy - Done.\n",
      "/Users/techfreakworm/Projects/lab_notebooks/Chitkara/audio/9.wav\n"
     ]
    },
    {
     "name": "stderr",
     "output_type": "stream",
     "text": [
      "\r"
     ]
    }
   ],
   "source": [
    "# Load the video file\n",
    "spath = '/Users/techfreakworm/Downloads/Unit-1 Lectures'\n",
    "tpath = '/Users/techfreakworm/Projects/lab_notebooks/Chitkara/audio'\n",
    "audios = list(os.listdir(tpath))\n",
    "for i in os.listdir(spath):\n",
    "    audio_file=f\"{i.split('.')[0]}.wav\"\n",
    "    if i.endswith('mp4'): \n",
    "        print(i)\n",
    "        if audio_file not in audios:\n",
    "            video_path = f'{spath}/{i}'\n",
    "            video = mp.VideoFileClip(video_path)\n",
    "            \n",
    "            # Extract audio from the video\n",
    "            audio = video.audio\n",
    "            \n",
    "            # Save the extracted audio\n",
    "            audio_path = f\"{tpath}/{audio_file}\"\n",
    "            audio.write_audiofile(audio_path)\n",
    "            print(audio_path)\n",
    "\n",
    "# audio_path"
   ]
  },
  {
   "cell_type": "code",
   "execution_count": 3,
   "id": "b5f49efa-1696-4bea-8e1e-c5ae90a85aa9",
   "metadata": {},
   "outputs": [
    {
     "name": "stdout",
     "output_type": "stream",
     "text": [
      "/Users/techfreakworm/Projects/lab_notebooks/Chitkara\n"
     ]
    }
   ],
   "source": [
    "!pwd"
   ]
  },
  {
   "cell_type": "code",
   "execution_count": null,
   "id": "88c2e553-66ee-4504-8e61-b4ce40c4f0c8",
   "metadata": {},
   "outputs": [],
   "source": [
    "!whisper /Users/techfreakworm/Projects/lab_notebooks/Chitkara/video_audio.wav --output_format srt --output_dir /Users/techfreakworm/Projects/lab_notebooks/Chitkara --language English"
   ]
  },
  {
   "cell_type": "code",
   "execution_count": null,
   "id": "9636d4ea-9142-493b-aae4-7132d3f7a29b",
   "metadata": {},
   "outputs": [],
   "source": [
    "sub = '/Users/techfreakworm/Projects/lab_notebooks/Chitkara/subs'"
   ]
  }
 ],
 "metadata": {
  "kernelspec": {
   "display_name": "Python 3 (ipykernel)",
   "language": "python",
   "name": "python3"
  },
  "language_info": {
   "codemirror_mode": {
    "name": "ipython",
    "version": 3
   },
   "file_extension": ".py",
   "mimetype": "text/x-python",
   "name": "python",
   "nbconvert_exporter": "python",
   "pygments_lexer": "ipython3",
   "version": "3.11.9"
  }
 },
 "nbformat": 4,
 "nbformat_minor": 5
}
