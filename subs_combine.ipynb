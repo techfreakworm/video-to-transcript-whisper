{
 "cells": [
  {
   "cell_type": "markdown",
   "id": "8d4319c3-e0f0-48e0-8834-56220fd943ab",
   "metadata": {},
   "source": [
    "# Lecture subs merge"
   ]
  },
  {
   "cell_type": "code",
   "execution_count": 4,
   "id": "97a34c6c-5458-460c-b5d6-14b3dca3f4a9",
   "metadata": {},
   "outputs": [],
   "source": [
    "import os"
   ]
  },
  {
   "cell_type": "code",
   "execution_count": 5,
   "id": "2e6733a5-1a44-46da-9788-66ea17cc4ce6",
   "metadata": {},
   "outputs": [],
   "source": [
    "sub = 'C:\\\\Users\\\\Priya\\\\video-to-transcript-whisper\\\\lecture_subs'\n",
    "lecture_transcripts = 'C:\\\\Users\\\\Priya\\\\video-to-transcript-whisper\\\\lectures.txt'"
   ]
  },
  {
   "cell_type": "code",
   "execution_count": 6,
   "id": "b037f0eb-92ac-4296-9bce-bc881430f5fb",
   "metadata": {},
   "outputs": [],
   "source": [
    "f = open(lecture_transcripts,'w')\n",
    "f.write('Below are the transcriptions of different lectures, a new transcription starts after the line reads \"Lecture X transcription -->\", where X is the lecture number')\n",
    "f.write('\\n\\n')\n",
    "\n",
    "srts = os.listdir(sub)\n",
    "\n",
    "if '.ipynb_checkpoints' in srts:\n",
    "    srts.remove('.ipynb_checkpoints')\n",
    "\n",
    "for i in range(1,len(srts)+1):\n",
    "    with open(f'{sub}\\\\{i}.srt','r') as subf:\n",
    "        text = subf.read()\n",
    "        f.write(f'Lecture {i} transcription -->')\n",
    "        f.write('\\n\\n')\n",
    "        f.write(text)\n",
    "        f.write('\\n\\n')\n",
    "\n",
    "f.flush()\n",
    "f.close()"
   ]
  },
  {
   "cell_type": "markdown",
   "id": "00bebf62-09ee-4355-a67f-effb368f7235",
   "metadata": {},
   "source": [
    "# Podcast subs merge"
   ]
  },
  {
   "cell_type": "code",
   "execution_count": 4,
   "id": "ba7bdf39-e0b0-4f1f-9d7d-8a467d8a7ae3",
   "metadata": {},
   "outputs": [],
   "source": [
    "import os"
   ]
  },
  {
   "cell_type": "code",
   "execution_count": 5,
   "id": "3245c364-06f5-4733-9b30-f444724aec38",
   "metadata": {},
   "outputs": [],
   "source": [
    "sub = 'C:\\\\Users\\\\Priya\\\\video-to-transcript-whisper\\\\podcast_subs'\n",
    "podcast_transcripts = 'C:\\\\Users\\\\Priya\\\\video-to-transcript-whisper\\\\podcasts.txt'"
   ]
  },
  {
   "cell_type": "code",
   "execution_count": 6,
   "id": "e048d8e6-be78-428b-9d28-ac57b966fdf0",
   "metadata": {},
   "outputs": [],
   "source": [
    "f = open(podcast_transcripts,'w')\n",
    "\n",
    "f.write('Below are the transcriptions of different podcasts, a new transcription starts after the line reads \"Podcast X transcription -->\", where X is the podcast number')\n",
    "f.write('\\n\\n')\n",
    "\n",
    "srts = os.listdir(sub)\n",
    "if '.ipynb_checkpoints' in srts:\n",
    "    srts.remove('.ipynb_checkpoints')\n",
    "\n",
    "for i in range(1,len(srts)+1):\n",
    "    with open(f'{sub}\\\\{i}.srt','r') as subf:\n",
    "        text = subf.read()\n",
    "        f.write(f'Podcast {i} transcription -->')\n",
    "        f.write('\\n\\n')\n",
    "        f.write(text)\n",
    "        f.write('\\n\\n')\n",
    "\n",
    "f.flush()\n",
    "f.close()"
   ]
  },
  {
   "cell_type": "code",
   "execution_count": null,
   "id": "172978ff-0fe5-49ce-8a3b-7900bd452af4",
   "metadata": {},
   "outputs": [],
   "source": []
  },
  {
   "cell_type": "code",
   "execution_count": null,
   "id": "6476901b-4dd6-432c-a1fd-9d1083826802",
   "metadata": {},
   "outputs": [],
   "source": []
  }
 ],
 "metadata": {
  "kernelspec": {
   "display_name": "Python 3 (ipykernel)",
   "language": "python",
   "name": "python3"
  },
  "language_info": {
   "codemirror_mode": {
    "name": "ipython",
    "version": 3
   },
   "file_extension": ".py",
   "mimetype": "text/x-python",
   "name": "python",
   "nbconvert_exporter": "python",
   "pygments_lexer": "ipython3",
   "version": "3.11.4"
  }
 },
 "nbformat": 4,
 "nbformat_minor": 5
}
