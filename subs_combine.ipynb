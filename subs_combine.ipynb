{
 "cells": [
  {
   "cell_type": "code",
   "execution_count": 2,
   "id": "2e6733a5-1a44-46da-9788-66ea17cc4ce6",
   "metadata": {},
   "outputs": [],
   "source": [
    "sub = '/Users/techfreakworm/Projects/lab_notebooks/Chitkara/lecture_subs'\n",
    "lecture_transcripts = '/Users/techfreakworm/Projects/lab_notebooks/Chitkara/lectures.txt'"
   ]
  },
  {
   "cell_type": "code",
   "execution_count": 3,
   "id": "b037f0eb-92ac-4296-9bce-bc881430f5fb",
   "metadata": {},
   "outputs": [],
   "source": [
    "f = open(lecture_transcripts,'w')\n",
    "\n",
    "f.write('Below are the transcriptions of different lectures, a new transcription starts after the line reads \"Lecture X transcription -->\", where X is the lecture number')\n",
    "f.write('\\n\\n')\n",
    "\n",
    "for i in range(1,14):\n",
    "    with open(f'{sub}/{i}.srt','r') as subf:\n",
    "        text = subf.read()\n",
    "        f.write(f'Lecture {i} transcription -->')\n",
    "        f.write('\\n\\n')\n",
    "        f.write(text)\n",
    "        f.write('\\n\\n')\n",
    "\n",
    "f.flush()\n",
    "f.close()"
   ]
  },
  {
   "cell_type": "code",
   "execution_count": null,
   "id": "33e7c64d-2223-4c50-b160-467135275406",
   "metadata": {},
   "outputs": [],
   "source": []
  },
  {
   "cell_type": "code",
   "execution_count": 4,
   "id": "3245c364-06f5-4733-9b30-f444724aec38",
   "metadata": {},
   "outputs": [],
   "source": [
    "sub = '/Users/techfreakworm/Projects/lab_notebooks/Chitkara/subs'\n",
    "lecture_transcripts = '/Users/techfreakworm/Projects/lab_notebooks/Chitkara/podcasts.txt'"
   ]
  },
  {
   "cell_type": "code",
   "execution_count": 5,
   "id": "e048d8e6-be78-428b-9d28-ac57b966fdf0",
   "metadata": {},
   "outputs": [],
   "source": [
    "f = open(lecture_transcripts,'w')\n",
    "\n",
    "f.write('Below are the transcriptions of different podcasts, a new transcription starts after the line reads \"Podcast X transcription -->\", where X is the podcast number')\n",
    "f.write('\\n\\n')\n",
    "\n",
    "for i in range(1,14):\n",
    "    with open(f'{sub}/{i}.srt','r') as subf:\n",
    "        text = subf.read()\n",
    "        f.write(f'Podcast {i} transcription -->')\n",
    "        f.write('\\n\\n')\n",
    "        f.write(text)\n",
    "        f.write('\\n\\n')\n",
    "\n",
    "f.flush()\n",
    "f.close()"
   ]
  },
  {
   "cell_type": "code",
   "execution_count": null,
   "id": "172978ff-0fe5-49ce-8a3b-7900bd452af4",
   "metadata": {},
   "outputs": [],
   "source": []
  }
 ],
 "metadata": {
  "kernelspec": {
   "display_name": "Python 3 (ipykernel)",
   "language": "python",
   "name": "python3"
  },
  "language_info": {
   "codemirror_mode": {
    "name": "ipython",
    "version": 3
   },
   "file_extension": ".py",
   "mimetype": "text/x-python",
   "name": "python",
   "nbconvert_exporter": "python",
   "pygments_lexer": "ipython3",
   "version": "3.11.9"
  }
 },
 "nbformat": 4,
 "nbformat_minor": 5
}
